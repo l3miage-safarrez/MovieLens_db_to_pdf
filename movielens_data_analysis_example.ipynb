{
 "cells": [
  {
   "cell_type": "markdown",
   "metadata": {},
   "source": [
    "## DO NOT RUN \n",
    "UNLESS YOU WANT MORE THEN 10 000 FILES GENERATED"
   ]
  },
  {
   "cell_type": "code",
   "execution_count": null,
   "metadata": {},
   "outputs": [],
   "source": [
    "%%bash\n",
    "ls data/movielens"
   ]
  },
  {
   "cell_type": "code",
   "execution_count": null,
   "metadata": {},
   "outputs": [],
   "source": [
    "%%bash\n",
    "head data/movielens/users.csv"
   ]
  },
  {
   "cell_type": "code",
   "execution_count": 1,
   "metadata": {},
   "outputs": [],
   "source": [
    "import pandas as pd"
   ]
  },
  {
   "cell_type": "code",
   "execution_count": 2,
   "metadata": {},
   "outputs": [],
   "source": [
    "path = \"data/movielens/\"\n",
    "users = pd.read_csv(path+\"users.csv\", sep=\";\")\n",
    "ratings = pd.read_csv(path+\"ratings.csv\", sep=\";\")\n",
    "movies = pd.read_csv(path+\"movies.csv\", sep=\";\", encoding=\"latin\")"
   ]
  },
  {
   "cell_type": "code",
   "execution_count": 3,
   "metadata": {},
   "outputs": [
    {
     "name": "stdout",
     "output_type": "stream",
     "text": [
      "   userId gender  age  occupation zip-code\n",
      "0       1      F    1          10    48067\n",
      "1       2      M   56          16    70072\n",
      "2       3      M   25          15    55117\n",
      "3       4      M   45           7     2460\n",
      "4       5      M   25          20    55455\n",
      "++++++++++++++++++++\n",
      "   userId  movieId  rating  timestamp\n",
      "0       1     1193       5  978300760\n",
      "1       1      661       3  978302109\n",
      "2       1      914       3  978301968\n",
      "3       1     3408       4  978300275\n",
      "4       1     2355       5  978824291\n",
      "++++++++++++++++++++\n",
      "   movieId                               title                        genres  \\\n",
      "0        1                    Toy Story (1995)   Animation|Children's|Comedy   \n",
      "1        2                      Jumanji (1995)  Adventure|Children's|Fantasy   \n",
      "2        3             Grumpier Old Men (1995)                Comedy|Romance   \n",
      "3        4            Waiting to Exhale (1995)                  Comedy|Drama   \n",
      "4        5  Father of the Bride Part II (1995)                        Comedy   \n",
      "\n",
      "  Unnamed: 3  \n",
      "0        NaN  \n",
      "1        NaN  \n",
      "2        NaN  \n",
      "3        NaN  \n",
      "4        NaN  \n",
      "++++++++++++++++++++\n"
     ]
    }
   ],
   "source": [
    "for df in [users, ratings, movies]:\n",
    "    print(df.head())\n",
    "    print(\"++++++++++++++++++++\")"
   ]
  },
  {
   "cell_type": "code",
   "execution_count": 4,
   "metadata": {},
   "outputs": [],
   "source": [
    "data = pd.merge(pd.merge(ratings, users), movies)"
   ]
  },
  {
   "cell_type": "code",
   "execution_count": 5,
   "metadata": {},
   "outputs": [],
   "source": [
    "data.drop('Unnamed: 3', axis=1, inplace=True)"
   ]
  },
  {
   "cell_type": "code",
   "execution_count": 6,
   "metadata": {},
   "outputs": [
    {
     "data": {
      "text/html": [
       "<div>\n",
       "<style scoped>\n",
       "    .dataframe tbody tr th:only-of-type {\n",
       "        vertical-align: middle;\n",
       "    }\n",
       "\n",
       "    .dataframe tbody tr th {\n",
       "        vertical-align: top;\n",
       "    }\n",
       "\n",
       "    .dataframe thead th {\n",
       "        text-align: right;\n",
       "    }\n",
       "</style>\n",
       "<table border=\"1\" class=\"dataframe\">\n",
       "  <thead>\n",
       "    <tr style=\"text-align: right;\">\n",
       "      <th></th>\n",
       "      <th>userId</th>\n",
       "      <th>movieId</th>\n",
       "      <th>rating</th>\n",
       "      <th>timestamp</th>\n",
       "      <th>gender</th>\n",
       "      <th>age</th>\n",
       "      <th>occupation</th>\n",
       "      <th>zip-code</th>\n",
       "      <th>title</th>\n",
       "      <th>genres</th>\n",
       "    </tr>\n",
       "  </thead>\n",
       "  <tbody>\n",
       "    <tr>\n",
       "      <th>0</th>\n",
       "      <td>1</td>\n",
       "      <td>1193</td>\n",
       "      <td>5</td>\n",
       "      <td>978300760</td>\n",
       "      <td>F</td>\n",
       "      <td>1</td>\n",
       "      <td>10</td>\n",
       "      <td>48067</td>\n",
       "      <td>One Flew Over the Cuckoo's Nest (1975)</td>\n",
       "      <td>Drama</td>\n",
       "    </tr>\n",
       "    <tr>\n",
       "      <th>1</th>\n",
       "      <td>1</td>\n",
       "      <td>661</td>\n",
       "      <td>3</td>\n",
       "      <td>978302109</td>\n",
       "      <td>F</td>\n",
       "      <td>1</td>\n",
       "      <td>10</td>\n",
       "      <td>48067</td>\n",
       "      <td>James and the Giant Peach (1996)</td>\n",
       "      <td>Animation|Children's|Musical</td>\n",
       "    </tr>\n",
       "    <tr>\n",
       "      <th>2</th>\n",
       "      <td>1</td>\n",
       "      <td>914</td>\n",
       "      <td>3</td>\n",
       "      <td>978301968</td>\n",
       "      <td>F</td>\n",
       "      <td>1</td>\n",
       "      <td>10</td>\n",
       "      <td>48067</td>\n",
       "      <td>My Fair Lady (1964)</td>\n",
       "      <td>Musical|Romance</td>\n",
       "    </tr>\n",
       "    <tr>\n",
       "      <th>3</th>\n",
       "      <td>1</td>\n",
       "      <td>3408</td>\n",
       "      <td>4</td>\n",
       "      <td>978300275</td>\n",
       "      <td>F</td>\n",
       "      <td>1</td>\n",
       "      <td>10</td>\n",
       "      <td>48067</td>\n",
       "      <td>Erin Brockovich (2000)</td>\n",
       "      <td>Drama</td>\n",
       "    </tr>\n",
       "    <tr>\n",
       "      <th>4</th>\n",
       "      <td>1</td>\n",
       "      <td>2355</td>\n",
       "      <td>5</td>\n",
       "      <td>978824291</td>\n",
       "      <td>F</td>\n",
       "      <td>1</td>\n",
       "      <td>10</td>\n",
       "      <td>48067</td>\n",
       "      <td>Bug's Life, A (1998)</td>\n",
       "      <td>Animation|Children's|Comedy</td>\n",
       "    </tr>\n",
       "  </tbody>\n",
       "</table>\n",
       "</div>"
      ],
      "text/plain": [
       "   userId  movieId  rating  timestamp gender  age  occupation zip-code  \\\n",
       "0       1     1193       5  978300760      F    1          10    48067   \n",
       "1       1      661       3  978302109      F    1          10    48067   \n",
       "2       1      914       3  978301968      F    1          10    48067   \n",
       "3       1     3408       4  978300275      F    1          10    48067   \n",
       "4       1     2355       5  978824291      F    1          10    48067   \n",
       "\n",
       "                                    title                        genres  \n",
       "0  One Flew Over the Cuckoo's Nest (1975)                         Drama  \n",
       "1        James and the Giant Peach (1996)  Animation|Children's|Musical  \n",
       "2                     My Fair Lady (1964)               Musical|Romance  \n",
       "3                  Erin Brockovich (2000)                         Drama  \n",
       "4                    Bug's Life, A (1998)   Animation|Children's|Comedy  "
      ]
     },
     "execution_count": 6,
     "metadata": {},
     "output_type": "execute_result"
    }
   ],
   "source": [
    "data.head()"
   ]
  },
  {
   "cell_type": "code",
   "execution_count": 8,
   "metadata": {},
   "outputs": [
    {
     "name": "stdout",
     "output_type": "stream",
     "text": [
      "1000209\n"
     ]
    }
   ],
   "source": [
    "print(len(data))"
   ]
  },
  {
   "cell_type": "code",
   "execution_count": 7,
   "metadata": {},
   "outputs": [
    {
     "data": {
      "text/plain": [
       "userId                                             1\n",
       "movieId                                         1193\n",
       "rating                                             5\n",
       "timestamp                                  978300760\n",
       "gender                                             F\n",
       "age                                                1\n",
       "occupation                                        10\n",
       "zip-code                                       48067\n",
       "title         One Flew Over the Cuckoo's Nest (1975)\n",
       "genres                                         Drama\n",
       "Name: 0, dtype: object"
      ]
     },
     "execution_count": 7,
     "metadata": {},
     "output_type": "execute_result"
    }
   ],
   "source": [
    "data.iloc[0]"
   ]
  },
  {
   "cell_type": "code",
   "execution_count": 9,
   "metadata": {},
   "outputs": [
    {
     "name": "stdout",
     "output_type": "stream",
     "text": [
      "Requirement already satisfied: fpdf in c:\\users\\farah\\appdata\\local\\packages\\pythonsoftwarefoundation.python.3.11_qbz5n2kfra8p0\\localcache\\local-packages\\python311\\site-packages (1.7.2)\n",
      "Note: you may need to restart the kernel to use updated packages.\n"
     ]
    },
    {
     "name": "stderr",
     "output_type": "stream",
     "text": [
      "\n",
      "[notice] A new release of pip is available: 24.0 -> 25.1.1\n",
      "[notice] To update, run: C:\\Users\\farah\\AppData\\Local\\Microsoft\\WindowsApps\\PythonSoftwareFoundation.Python.3.11_qbz5n2kfra8p0\\python.exe -m pip install --upgrade pip\n"
     ]
    }
   ],
   "source": [
    "%pip install fpdf"
   ]
  },
  {
   "cell_type": "code",
   "execution_count": 15,
   "metadata": {},
   "outputs": [],
   "source": [
    "from fpdf import FPDF\n",
    "import os\n",
    "import math"
   ]
  },
  {
   "cell_type": "code",
   "execution_count": 39,
   "metadata": {},
   "outputs": [],
   "source": [
    "output_dir = \"pdf_exports_as_it_is\"\n",
    "os.makedirs(output_dir, exist_ok=True)  # create a directory to store the PDFs"
   ]
  },
  {
   "cell_type": "code",
   "execution_count": 40,
   "metadata": {},
   "outputs": [],
   "source": [
    "# Converts timestamp to readable format\n",
    "from datetime import datetime\n",
    "\n",
    "\n",
    "def format_timestamp(ts):\n",
    "    return datetime.utcfromtimestamp(int(ts)).strftime('%B %d, %Y')"
   ]
  },
  {
   "cell_type": "code",
   "execution_count": 42,
   "metadata": {},
   "outputs": [],
   "source": [
    "age_dict = {\n",
    "    1: \"under 18\", 18: \"between 18 and 24\", 25: \"between 25 and 34\",\n",
    "    35: \"between 35 and 44\", 45: \"between 45 and 49\",\n",
    "    50: \"between 50 and 55\", 56: \"56 or older\"\n",
    "}\n",
    "\n",
    "occupation_dict = {\n",
    "    0: \"unspecified occupation\", 1: \"academic or educator\", 2: \"artist\", 3: \"clerical or administrative worker\",\n",
    "    4: \"college or graduate student\", 5: \"customer service representative\", 6: \"healthcare professional\",\n",
    "    7: \"executive or managerial worker\", 8: \"farmer\", 9: \"homemaker\", 10: \"K-12 student\",\n",
    "    11: \"lawyer\", 12: \"programmer\", 13: \"retired individual\", 14: \"sales or marketing professional\",\n",
    "    15: \"scientist\", 16: \"self-employed worker\", 17: \"technician or engineer\",\n",
    "    18: \"tradesperson or craftsman\", 19: \"unemployed individual\", 20: \"writer\"\n",
    "}\n",
    "\n",
    "def make_sentence(row):\n",
    "    date_str = format_timestamp(row[\"timestamp\"])\n",
    "    gender_str = \"male\" if row[\"gender\"] == \"M\" else \"female\"\n",
    "    age_range = age_dict.get(int(row[\"age\"]), \"unknown age range\")\n",
    "    occupation = occupation_dict.get(int(row[\"occupation\"]), \"unspecified occupation\")\n",
    "    zip_code = row[\"zip-code\"]\n",
    "    title = row[\"title\"]\n",
    "    genres = row[\"genres\"].replace('|', ', ')\n",
    "    rating = row[\"rating\"]\n",
    "\n",
    "    return (\n",
    "        f\"On {date_str}, a {gender_str} user aged {age_range}, employed as a {occupation} \"\n",
    "        f\"and residing in ZIP code {zip_code}, rated the film \\\"{title}\\\" ({genres}) \"\n",
    "        f\"with a score of {rating} on the MovieLens platform. \"\n",
    "    )"
   ]
  },
  {
   "cell_type": "code",
   "execution_count": 43,
   "metadata": {},
   "outputs": [
    {
     "name": "stdout",
     "output_type": "stream",
     "text": [
      "On December 31, 2000, a female user aged under 18, employed as a K-12 student and residing in ZIP code 48067, rated the film \"One Flew Over the Cuckoo's Nest (1975)\" (Drama) with a score of 5 on the MovieLens platform. \n"
     ]
    }
   ],
   "source": [
    "print(make_sentence(data.iloc[0]))"
   ]
  },
  {
   "cell_type": "code",
   "execution_count": 44,
   "metadata": {},
   "outputs": [],
   "source": [
    "def create_pdf_from_dataframe(df, output_dir):\n",
    "    \"\"\"creates a PDF file for each 100 rows in the DataFrame.\n",
    "        inputs:\n",
    "        - df: pandas DataFrame containing the data\n",
    "        - output_dir: directory where the PDFs will be saved\n",
    "        outputs:\n",
    "        - None, but creates PDF files in the specified directory\n",
    "    \"\"\"    \n",
    "    chunk_size = 100  # number of rows per PDF\n",
    "    num_chunks = math.ceil(len(df) / chunk_size)\n",
    "\n",
    "    for chunk_index in range(num_chunks):\n",
    "        start = chunk_index * chunk_size\n",
    "        end = min((chunk_index + 1) * chunk_size, len(df))\n",
    "        chunk = df.iloc[start:end]\n",
    "\n",
    "        pdf = FPDF()\n",
    "        pdf.add_page()\n",
    "        pdf.set_auto_page_break(auto=True, margin=15)\n",
    "        pdf.set_font(\"Arial\", size=12)\n",
    "\n",
    "        pdf.cell(0, 10, f\"MovieLens summary report - chunk #{chunk_index + 1}\", ln=True, align='C')\n",
    "        pdf.ln(10)  # add space\n",
    "\n",
    "        # Add fields one by one\n",
    "        for _, row in chunk.iterrows():\n",
    "            text = make_sentence(row)\n",
    "            pdf.multi_cell(0, 10, text)\n",
    "            pdf.ln(5)\n",
    "\n",
    "        # Name the file based on row info\n",
    "        filename = f\"movies_chunk{chunk_index +1}.pdf\"\n",
    "        filepath = os.path.join(output_dir, filename)\n",
    "        pdf.output(filepath)\n",
    "\n",
    "    print(\"PDFs created in:\", output_dir)"
   ]
  },
  {
   "cell_type": "code",
   "execution_count": 45,
   "metadata": {},
   "outputs": [
    {
     "name": "stdout",
     "output_type": "stream",
     "text": [
      "PDFs created in: pdf_exports_as_it_is\n"
     ]
    }
   ],
   "source": [
    "create_pdf_from_dataframe(data, output_dir)\n",
    "# Check the output directory"
   ]
  }
 ],
 "metadata": {
  "kernelspec": {
   "display_name": "Python 3",
   "language": "python",
   "name": "python3"
  },
  "language_info": {
   "codemirror_mode": {
    "name": "ipython",
    "version": 3
   },
   "file_extension": ".py",
   "mimetype": "text/x-python",
   "name": "python",
   "nbconvert_exporter": "python",
   "pygments_lexer": "ipython3",
   "version": "3.11.9"
  }
 },
 "nbformat": 4,
 "nbformat_minor": 4
}
